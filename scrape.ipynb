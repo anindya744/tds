{
 "cells": [
  {
   "cell_type": "code",
   "execution_count": 16,
   "id": "2bea2bda",
   "metadata": {},
   "outputs": [
    {
     "name": "stdout",
     "output_type": "stream",
     "text": [
      "Data saved to data.txt\n"
     ]
    }
   ],
   "source": [
    "from selenium import webdriver\n",
    "from bs4 import BeautifulSoup\n",
    "import time\n",
    "\n",
    "# Start Chrome\n",
    "driver = webdriver.Chrome()\n",
    "driver.get(\"http://127.0.0.1:5500/posts.html\")\n",
    "time.sleep(2)\n",
    "\n",
    "# Parse rendered HTML\n",
    "soup = BeautifulSoup(driver.page_source, \"html.parser\")\n",
    "\n",
    "# Find all post links (you can adjust selector based on your HTML)\n",
    "posts = soup.select(\"a.title\")\n",
    "\n",
    "with open(\"data.txt\", \"w\", encoding=\"utf-8\") as f:\n",
    "    for post in posts:\n",
    "        title = post.get_text(strip=True)\n",
    "        relative_url = post['href']\n",
    "        full_url = \"https://discourse.onlinedegree.iitm.ac.in\" + relative_url  # or your actual domain\n",
    "        f.write(f\"{title} => {full_url}\\n\")\n",
    "\n",
    "print(\"Data saved to data.txt\")\n",
    "driver.quit()\n"
   ]
  },
  {
   "cell_type": "code",
   "execution_count": 18,
   "id": "65ed3da9",
   "metadata": {},
   "outputs": [
    {
     "name": "stdout",
     "output_type": "stream",
     "text": [
      "✅ data2.txt created successfully with text + image URLs + source\n"
     ]
    }
   ],
   "source": [
    "from selenium import webdriver\n",
    "from bs4 import BeautifulSoup\n",
    "import time\n",
    "\n",
    "# The URL to scrape\n",
    "url = \"https://tds.s-anand.net/#/2025-01/\"\n",
    "\n",
    "# Start Selenium Chrome WebDriver\n",
    "driver = webdriver.Chrome()\n",
    "driver.get(url)\n",
    "\n",
    "# Wait for JS content to fully load\n",
    "time.sleep(5)\n",
    "\n",
    "# Get rendered HTML\n",
    "soup = BeautifulSoup(driver.page_source, \"html.parser\")\n",
    "\n",
    "# Extract all <p> tag content\n",
    "paragraphs = [p.get_text(strip=True) for p in soup.find_all(\"p\")]\n",
    "\n",
    "# Extract all image URLs\n",
    "img_tags = soup.find_all(\"img\")\n",
    "img_urls = [img['src'] for img in img_tags if img.get('src')]\n",
    "\n",
    "# Prepare data\n",
    "output_lines = []\n",
    "\n",
    "output_lines.append(f\"Source URL: {url}\\n\\n\")\n",
    "\n",
    "output_lines.append(\"Paragraphs:\\n\")\n",
    "for para in paragraphs:\n",
    "    output_lines.append(para)\n",
    "output_lines.append(\"\\n\")\n",
    "\n",
    "output_lines.append(\"Image URLs:\\n\")\n",
    "for img in img_urls:\n",
    "    output_lines.append(img)\n",
    "\n",
    "# Save to data2.txt\n",
    "with open(\"data2.txt\", \"w\", encoding=\"utf-8\") as f:\n",
    "    for line in output_lines:\n",
    "        f.write(line + \"\\n\")\n",
    "\n",
    "print(\"✅ data2.txt created successfully with text + image URLs + source\")\n",
    "\n",
    "driver.quit()\n"
   ]
  }
 ],
 "metadata": {
  "kernelspec": {
   "display_name": "env",
   "language": "python",
   "name": "python3"
  },
  "language_info": {
   "codemirror_mode": {
    "name": "ipython",
    "version": 3
   },
   "file_extension": ".py",
   "mimetype": "text/x-python",
   "name": "python",
   "nbconvert_exporter": "python",
   "pygments_lexer": "ipython3",
   "version": "3.12.3"
  }
 },
 "nbformat": 4,
 "nbformat_minor": 5
}
